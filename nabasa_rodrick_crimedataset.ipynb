{
 "cells": [
  {
   "cell_type": "code",
   "execution_count": 1,
   "metadata": {},
   "outputs": [],
   "source": [
    "import pandas as pd\n",
    "import numpy as np\n",
    "import matplotlib.pyplot as plt\n",
    "import seaborn as sns\n"
   ]
  },
  {
   "cell_type": "code",
   "execution_count": 2,
   "metadata": {},
   "outputs": [],
   "source": [
    "df =  pd.read_csv('D:\\\\learn python\\\\2018CrimeStatisticsByCategoryOfCrime.csv')"
   ]
  },
  {
   "cell_type": "code",
   "execution_count": 3,
   "metadata": {},
   "outputs": [
    {
     "name": "stdout",
     "output_type": "stream",
     "text": [
      "  Unnamed: 0             Unnamed: 1 REPORTED CASES           Unnamed: 3  \\\n",
      "0        NaN                    NaN            NaN                  NaN   \n",
      "1        NaN                    NaN   Totals Cases  Cases under Inquiry   \n",
      "2      S/No.  CASE/CRIME INCIDENCES              1                    2   \n",
      "3        NaN              HOMICIDES            NaN                  NaN   \n",
      "4          1   Death  (by shooting)            190                  117   \n",
      "\n",
      "         Unnamed: 4            Unnamed: 5                 PERFOMANCE  \\\n",
      "0               NaN                   NaN                        NaN   \n",
      "1  Not Detected/NPW  Cases taken to court  Cases submitted toDPP/RSA   \n",
      "2                 3                     4                          5   \n",
      "3               NaN                   NaN                        NaN   \n",
      "4                29                    44                         74   \n",
      "\n",
      "               Unnamed: 7             Unnamed: 8       Unnamed: 9  ...  \\\n",
      "0                     NaN                    NaN              NaN  ...   \n",
      "1  Cases with convictions  Cases with Acquittals  Cases Dismissed  ...   \n",
      "2                       6                      7                8  ...   \n",
      "3                     NaN                    NaN              NaN  ...   \n",
      "4                       3                      1                1  ...   \n",
      "\n",
      "            Unnamed: 28 Unnamed: 29 Unnamed: 30              Unnamed: 31  \\\n",
      "0                   NaN         NaN         NaN                      NaN   \n",
      "1  Probation Bound Over     CAUTION  COMM. WORK  Fines  Awarded (UgShs.)   \n",
      "2                    18          19          20                       21   \n",
      "3                   NaN         NaN         NaN                      NaN   \n",
      "4                     -           -           -                        -   \n",
      "\n",
      "        Unnamed: 32  Unnamed: 33   Unnamed: 34    Unnamed: 35  \\\n",
      "0  VICTIMS OF CRIME          NaN           NaN            NaN   \n",
      "1        Male Adult  Male Juven.  Female Adult  Female Juven.   \n",
      "2               NaN          NaN           NaN             22   \n",
      "3               NaN          NaN           NaN            NaN   \n",
      "4               197            4            17              -   \n",
      "\n",
      "              Unnamed: 36 Unnamed: 37  \n",
      "0  VALUE PROPERTY(UGSHS.)         NaN  \n",
      "1                    Lost   Recovered  \n",
      "2                      23          24  \n",
      "3                     NaN         NaN  \n",
      "4              11,500,000           -  \n",
      "\n",
      "[5 rows x 38 columns]\n"
     ]
    }
   ],
   "source": [
    "#displaying the first few rows\n",
    "print(df.head())"
   ]
  },
  {
   "cell_type": "code",
   "execution_count": 4,
   "metadata": {},
   "outputs": [
    {
     "name": "stdout",
     "output_type": "stream",
     "text": [
      "<class 'pandas.core.frame.DataFrame'>\n",
      "RangeIndex: 127 entries, 0 to 126\n",
      "Data columns (total 38 columns):\n",
      " #   Column                       Non-Null Count  Dtype \n",
      "---  ------                       --------------  ----- \n",
      " 0   Unnamed: 0                   95 non-null     object\n",
      " 1   Unnamed: 1                   125 non-null    object\n",
      " 2   REPORTED CASES               125 non-null    object\n",
      " 3   Unnamed: 3                   125 non-null    object\n",
      " 4   Unnamed: 4                   125 non-null    object\n",
      " 5   Unnamed: 5                   125 non-null    object\n",
      " 6   PERFOMANCE                   125 non-null    object\n",
      " 7   Unnamed: 7                   125 non-null    object\n",
      " 8   Unnamed: 8                   125 non-null    object\n",
      " 9   Unnamed: 9                   125 non-null    object\n",
      " 10  Unnamed: 10                  125 non-null    object\n",
      " 11  PERSONS TAKEN TO COURT       126 non-null    object\n",
      " 12  Unnamed: 12                  124 non-null    object\n",
      " 13  Unnamed: 13                  124 non-null    object\n",
      " 14  Unnamed: 14                  124 non-null    object\n",
      " 15  Unnamed: 15                  126 non-null    object\n",
      " 16  Unnamed: 16                  124 non-null    object\n",
      " 17  Unnamed: 17                  124 non-null    object\n",
      " 18  Unnamed: 18                  124 non-null    object\n",
      " 19  Unnamed: 19                  109 non-null    object\n",
      " 20  Unnamed: 20                  109 non-null    object\n",
      " 21  Unnamed: 21                  109 non-null    object\n",
      " 22  SENTENCES IMPOSED BY COURTS  109 non-null    object\n",
      " 23  Unnamed: 23                  108 non-null    object\n",
      " 24  Unnamed: 24                  108 non-null    object\n",
      " 25  Unnamed: 25                  109 non-null    object\n",
      " 26  Unnamed: 26                  109 non-null    object\n",
      " 27  Unnamed: 27                  109 non-null    object\n",
      " 28  Unnamed: 28                  109 non-null    object\n",
      " 29  Unnamed: 29                  109 non-null    object\n",
      " 30  Unnamed: 30                  109 non-null    object\n",
      " 31  Unnamed: 31                  109 non-null    object\n",
      " 32  Unnamed: 32                  100 non-null    object\n",
      " 33  Unnamed: 33                  107 non-null    object\n",
      " 34  Unnamed: 34                  99 non-null     object\n",
      " 35  Unnamed: 35                  108 non-null    object\n",
      " 36  Unnamed: 36                  110 non-null    object\n",
      " 37  Unnamed: 37                  109 non-null    object\n",
      "dtypes: object(38)\n",
      "memory usage: 37.8+ KB\n",
      "None\n"
     ]
    }
   ],
   "source": [
    "#getting information about the columns\n",
    "print(df.info())"
   ]
  },
  {
   "cell_type": "code",
   "execution_count": 5,
   "metadata": {},
   "outputs": [
    {
     "name": "stdout",
     "output_type": "stream",
     "text": [
      "       Unnamed: 0             Unnamed: 1 REPORTED CASES Unnamed: 3 Unnamed: 4  \\\n",
      "count          95                    125            125        125        125   \n",
      "unique         95                    125            104         95         89   \n",
      "top         S/No.  CASE/CRIME INCIDENCES              -          -          -   \n",
      "freq            1                      1             17         18         24   \n",
      "\n",
      "       Unnamed: 5 PERFOMANCE Unnamed: 7 Unnamed: 8 Unnamed: 9  ...  \\\n",
      "count         125        125        125        125        125  ...   \n",
      "unique         89         98         66         41         60  ...   \n",
      "top             -          -          -          -          -  ...   \n",
      "freq           20         19         34         55         39  ...   \n",
      "\n",
      "       Unnamed: 28 Unnamed: 29 Unnamed: 30 Unnamed: 31 Unnamed: 32  \\\n",
      "count          109         109         109         109         100   \n",
      "unique          15          46          51          68          91   \n",
      "top              -           -           -           -           -   \n",
      "freq            77          40          38          36           4   \n",
      "\n",
      "       Unnamed: 33 Unnamed: 34 Unnamed: 35 Unnamed: 36 Unnamed: 37  \n",
      "count          107          99         108         110         109  \n",
      "unique          50          75          45          66          55  \n",
      "top              -           -           -           -           -  \n",
      "freq            33          11          50          41          53  \n",
      "\n",
      "[4 rows x 38 columns]\n"
     ]
    }
   ],
   "source": [
    "#descriptive statistics of numerical columns\n",
    "print(df.describe())"
   ]
  },
  {
   "cell_type": "code",
   "execution_count": 6,
   "metadata": {},
   "outputs": [],
   "source": [
    "#data processing\n",
    "#cleaning column names\n",
    "df.columns = df.columns.str.strip().str.replace(' ','_')"
   ]
  },
  {
   "cell_type": "code",
   "execution_count": 8,
   "metadata": {},
   "outputs": [
    {
     "name": "stdout",
     "output_type": "stream",
     "text": [
      "Index(['Unnamed:_0', 'Unnamed:_1', 'REPORTED_CASES', 'Unnamed:_3',\n",
      "       'Unnamed:_4', 'Unnamed:_5', 'PERFOMANCE', 'Unnamed:_7', 'Unnamed:_8',\n",
      "       'Unnamed:_9', 'Unnamed:_10', 'PERSONS_TAKEN_TO_COURT', 'Unnamed:_12',\n",
      "       'Unnamed:_13', 'Unnamed:_14', 'Unnamed:_15', 'Unnamed:_16',\n",
      "       'Unnamed:_17', 'Unnamed:_18', 'Unnamed:_19', 'Unnamed:_20',\n",
      "       'Unnamed:_21', 'SENTENCES_IMPOSED_BY_COURTS', 'Unnamed:_23',\n",
      "       'Unnamed:_24', 'Unnamed:_25', 'Unnamed:_26', 'Unnamed:_27',\n",
      "       'Unnamed:_28', 'Unnamed:_29', 'Unnamed:_30', 'Unnamed:_31',\n",
      "       'Unnamed:_32', 'Unnamed:_33', 'Unnamed:_34', 'Unnamed:_35',\n",
      "       'Unnamed:_36', 'Unnamed:_37'],\n",
      "      dtype='object')\n"
     ]
    }
   ],
   "source": [
    "print(df.columns)"
   ]
  },
  {
   "cell_type": "code",
   "execution_count": 9,
   "metadata": {},
   "outputs": [],
   "source": [
    "#remove unwanted columns\n",
    "df.drop(['REPORTED_CASES'],axis=1 , inplace=True)"
   ]
  }
 ],
 "metadata": {
  "kernelspec": {
   "display_name": "Python 3",
   "language": "python",
   "name": "python3"
  },
  "language_info": {
   "codemirror_mode": {
    "name": "ipython",
    "version": 3
   },
   "file_extension": ".py",
   "mimetype": "text/x-python",
   "name": "python",
   "nbconvert_exporter": "python",
   "pygments_lexer": "ipython3",
   "version": "3.11.4"
  },
  "orig_nbformat": 4
 },
 "nbformat": 4,
 "nbformat_minor": 2
}
