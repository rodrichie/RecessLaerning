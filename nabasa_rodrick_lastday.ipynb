{
 "cells": [
  {
   "cell_type": "code",
   "execution_count": 3,
   "metadata": {},
   "outputs": [
    {
     "name": "stdout",
     "output_type": "stream",
     "text": [
      "<title>xeno-canto :: Sharing wildlife sounds from around the world</title>\n"
     ]
    }
   ],
   "source": [
    "from bs4 import BeautifulSoup #import BeautifulSoup libraries\n",
    "import requests\n",
    "\n",
    "url='http://xeno-canto.org'\n",
    "response= requests.get(url)\n",
    "\n",
    "#get title of the page\n",
    "soup = BeautifulSoup(response.content, 'html.parser')\n",
    "title = soup.find('title')\n",
    "print(title)\n",
    "                  "
   ]
  },
  {
   "cell_type": "code",
   "execution_count": null,
   "metadata": {},
   "outputs": [],
   "source": [
    "#assignment\n",
    "#extract all bird species from this website url https://xeno-canto.org and\n",
    "#generate the csv file or the JSON file format for the bird species, family and more\n",
    "#Extract all bird songs from this website url https://xeno-canto.org \n",
    "#use this API to get data . the endpoint for the web service is at https://xeno-canto.org/api/2/recording.\n"
   ]
  },
  {
   "cell_type": "code",
   "execution_count": 28,
   "metadata": {},
   "outputs": [],
   "source": [
    "import requests\n",
    "from bs4 import BeautifulSoup\n",
    "import csv\n",
    "import json\n",
    "\n",
    "# Task 1: Extract all bird species from the website and save in CSV and JSON format\n",
    "\n",
    "url = \"https://xeno-canto.org/species\"\n",
    "response = requests.get(url)\n",
    "soup = BeautifulSoup(response.content, \"html.parser\")\n",
    "\n",
    "species_list = []\n",
    "for species in soup.find_all(\"a\", class_=\"species-link\"):\n",
    "    species_name = species.text\n",
    "    species_url = species[\"href\"]\n",
    "    species_list.append({\"Species\": species_name, \"URL\": species_url})\n",
    "\n",
    "# Save as CSV\n",
    "with open(\"bird_species.csv\", \"w\", newline=\"\", encoding=\"utf-8\") as csvfile:\n",
    "    fieldnames = [\"Species\", \"URL\"]\n",
    "    writer = csv.DictWriter(csvfile, fieldnames=fieldnames)\n",
    "    writer.writeheader()\n",
    "    writer.writerows(species_list)\n",
    "\n",
    "# Save as JSON\n",
    "with open(\"bird_species.json\", \"w\", encoding=\"utf-8\") as jsonfile:\n",
    "    json.dump(species_list, jsonfile, indent=2, ensure_ascii=False)\n",
    "\n",
    "\n"
   ]
  },
  {
   "cell_type": "code",
   "execution_count": 29,
   "metadata": {},
   "outputs": [],
   "source": [
    "# Task 2: Fetch bird songs data from the Xeno-Canto API\n",
    "\n",
    "bird_species_query = \"robin-redbreast\"\n",
    "api_endpoint = f\"https://xeno-canto.org/api/2/recordings?query={bird_species_query}\"\n",
    "\n",
    "response = requests.get(api_endpoint)\n",
    "data = response.json()\n",
    "\n",
    "for recording in data[\"recordings\"]:\n",
    "    print(\"ID:\", recording[\"id\"])\n",
    "    print(\"English Name:\", recording[\"en\"])\n",
    "    print(\"Genus:\", recording[\"gen\"])\n",
    "    print(\"Species:\", recording[\"sp\"])\n",
    "    print(\"=\" * 30)\n"
   ]
  }
 ],
 "metadata": {
  "kernelspec": {
   "display_name": ".venv",
   "language": "python",
   "name": "python3"
  },
  "language_info": {
   "codemirror_mode": {
    "name": "ipython",
    "version": 3
   },
   "file_extension": ".py",
   "mimetype": "text/x-python",
   "name": "python",
   "nbconvert_exporter": "python",
   "pygments_lexer": "ipython3",
   "version": "3.11.4"
  },
  "orig_nbformat": 4
 },
 "nbformat": 4,
 "nbformat_minor": 2
}
