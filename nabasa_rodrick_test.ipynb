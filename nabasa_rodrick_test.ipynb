{
 "cells": [
  {
   "cell_type": "code",
   "execution_count": null,
   "metadata": {},
   "outputs": [],
   "source": [
    "\"\"\"\n",
    "machine learning\n",
    "test and train\n",
    "independent variables and dependent variables\n",
    "divide data into x and y\n",
    "train_x,test_x,train_y ,test_y\n",
    "\n",
    "splitting data\n",
    "divide data into two subsets\n",
    "\n",
    "larger portion for testing an\n",
    "80% of the training and 20% for testing\n",
    "70 ,30 \n",
    "evaluate performance accurancy 100%! 99.87% accuracy\n",
    "\n",
    "Model Testing\n",
    "be specific with the training algorithm (linear regression, decision trees, svm, knn etc)\n",
    "\n",
    "model evaluation\n",
    "evaluation metrics, accurancy, precision , recall, f1-score , mean squared error. common ways to assess \n",
    "performance assessments\n",
    " give insight about the performance\n",
    "\n",
    " dataset lets say you have x to be independent variables(input features) and y to be dependent variables\n",
    " your target variable\n",
    " when dealing with logistic regression,its important to store independent variables in x\n",
    " store dependent variables i(target data) in y\n",
    "\n",
    " Split data into training and testing sets\n",
    " x_train, y_train, x_test, y_test = train_test_split(x,, y ,test_size=0.3, random_state=40)\n",
    "\n",
    " model training\n",
    " model = LogisticRegression() helps us get relationship btn input features going to be used\n",
    " model.fit(x_train, y_train)\n",
    "\n",
    "model evaluation\n",
    "y_pred = model.predict(x_test)\n",
    "accuracy = accuracy_score(y_test,y_pred)\n",
    "\n",
    "Display results\n",
    "print('Accuracy:' , accuracy)\n",
    "\n",
    "\n",
    " \"\"\""
   ]
  },
  {
   "cell_type": "code",
   "execution_count": 1,
   "metadata": {},
   "outputs": [],
   "source": [
    "#create  a data using array\n",
    "import numpy as np\n",
    "# Sample input features (independent variables X)\n",
    "X = np.array([   [2.3],    [1.5],   [3.1],  [4.5], [2.8],[5.0], [3.6], [7.1],  [6.4],[5.2]])\n",
    "# Sample target variable (dependent variable y)\n",
    "y = np.array([0, 0, 0, 0, 0, 1, 1, 1, 1, 1])"
   ]
  },
  {
   "cell_type": "code",
   "execution_count": 9,
   "metadata": {},
   "outputs": [
    {
     "name": "stdout",
     "output_type": "stream",
     "text": [
      "[1]\n"
     ]
    }
   ],
   "source": [
    "#create  a data using array\n",
    "from sklearn import linear_model\n",
    "x= np.array([1,2,3,4]).reshape(-1,1)\n",
    "y= np.array([0,0,1,1]) #0 is No, and 1 is Yes\n",
    "\n",
    "#model training\n",
    "logy = linear_model.LogisticRegression()\n",
    "logy.fit(x,y)\n",
    "\n",
    "#model evaluation\n",
    "y_pred= logy.predict(np.array([3]).reshape(-1,1))\n",
    "\n",
    "#display results\n",
    "print(y_pred)"
   ]
  },
  {
   "cell_type": "code",
   "execution_count": null,
   "metadata": {},
   "outputs": [],
   "source": [
    "\"\"\"\n",
    "decision tree\n",
    "uses classification and regression\n",
    "pros\n",
    "can handle regression and classification\n",
    "captures non linear relationships\n",
    "can handle missing values or outliers\n",
    "\n",
    "cons \n",
    "prone to overfitting\n",
    "sensitivity to small changes \n",
    "may not perform well features or noise data\n",
    "\"\"\""
   ]
  },
  {
   "cell_type": "code",
   "execution_count": 11,
   "metadata": {},
   "outputs": [
    {
     "ename": "NameError",
     "evalue": "name 'train_test_split' is not defined",
     "output_type": "error",
     "traceback": [
      "\u001b[1;31m---------------------------------------------------------------------------\u001b[0m",
      "\u001b[1;31mNameError\u001b[0m                                 Traceback (most recent call last)",
      "Cell \u001b[1;32mIn[11], line 5\u001b[0m\n\u001b[0;32m      2\u001b[0m \u001b[39mfrom\u001b[39;00m \u001b[39msklearn\u001b[39;00m\u001b[39m.\u001b[39;00m\u001b[39mtree\u001b[39;00m \u001b[39mimport\u001b[39;00m DecisionTreeClassifier\n\u001b[0;32m      4\u001b[0m  \u001b[39m#Split data into training and testing sets\u001b[39;00m\n\u001b[1;32m----> 5\u001b[0m x_train, y_train, x_test, y_test \u001b[39m=\u001b[39m train_test_split(x, y ,test_size\u001b[39m=\u001b[39m\u001b[39m0.3\u001b[39m, random_state\u001b[39m=\u001b[39m\u001b[39m40\u001b[39m)\n\u001b[0;32m      7\u001b[0m  \u001b[39m#model training\u001b[39;00m\n\u001b[0;32m      8\u001b[0m model \u001b[39m=\u001b[39m DecisionTreeClassifier() \n",
      "\u001b[1;31mNameError\u001b[0m: name 'train_test_split' is not defined"
     ]
    }
   ],
   "source": [
    "#decision tree demonstration\n",
    "from sklearn.tree import DecisionTreeClassifier\n",
    "\n",
    " #Split data into training and testing sets\n",
    "x_train, y_train, x_test, y_test = train_test_split(x, y ,test_size=0.3, random_state=40)\n",
    "\n",
    " #model training\n",
    "model = DecisionTreeClassifier() \n",
    "model.fit(x_train, y_train)\n",
    "\n",
    "#model evaluation\n",
    "y_pred = model.predict(x_test)\n",
    "accuracy = accuracy_score(y_test,y_pred)\n",
    "\n",
    "#Display results\n",
    "print('Accuracy:' , accuracy)\n"
   ]
  }
 ],
 "metadata": {
  "kernelspec": {
   "display_name": "Python 3",
   "language": "python",
   "name": "python3"
  },
  "language_info": {
   "codemirror_mode": {
    "name": "ipython",
    "version": 3
   },
   "file_extension": ".py",
   "mimetype": "text/x-python",
   "name": "python",
   "nbconvert_exporter": "python",
   "pygments_lexer": "ipython3",
   "version": "3.11.4"
  },
  "orig_nbformat": 4
 },
 "nbformat": 4,
 "nbformat_minor": 2
}
