{
 "cells": [
  {
   "cell_type": "code",
   "execution_count": 1,
   "metadata": {},
   "outputs": [
    {
     "name": "stdout",
     "output_type": "stream",
     "text": [
      "Empty DataFrame\n",
      "Columns: []\n",
      "Index: []\n"
     ]
    }
   ],
   "source": [
    "import pandas as pd\n",
    "df = pd.DataFrame()\n",
    "print(df)"
   ]
  },
  {
   "cell_type": "code",
   "execution_count": 4,
   "metadata": {},
   "outputs": [
    {
     "name": "stdout",
     "output_type": "stream",
     "text": [
      "      Name  Age    Country  Salary\n",
      "0     John   25        USA   50000\n",
      "1    Alice   30     Canada   60000\n",
      "2      Bob   35         UK   70000\n",
      "3    Emily   28        USA   55000\n",
      "4  Michael   32  Australia   65000\n"
     ]
    }
   ],
   "source": [
    "data = {\n",
    "    'Name': ['John', 'Alice', 'Bob', 'Emily', 'Michael'],\n",
    "    'Age': [25, 30, 35, 28, 32],\n",
    "    'Country': ['USA', 'Canada', 'UK', 'USA', 'Australia'],\n",
    "    'Salary': [50000, 60000, 70000, 55000, 65000]\n",
    "}\n",
    "\n",
    "df1 = pd.DataFrame(data)\n",
    "print(df1)"
   ]
  },
  {
   "cell_type": "code",
   "execution_count": 5,
   "metadata": {},
   "outputs": [
    {
     "name": "stdout",
     "output_type": "stream",
     "text": [
      "['John', 'Alice', 'Bob', 'Emily', 'Michael'] [25, 30, 35, 28, 32] ['USA', 'Canada', 'UK', 'USA', 'Australia'] [50000, 60000, 70000, 55000, 65000]\n"
     ]
    }
   ],
   "source": [
    "#accessing individual items\n",
    "names = data[\"Name\"]\n",
    "age= data[\"Age\"]\n",
    "country = data[\"Country\"]\n",
    "salary= data[\"Salary\"]\n",
    "\n",
    "print(names,age,country,salary)"
   ]
  },
  {
   "cell_type": "code",
   "execution_count": 6,
   "metadata": {},
   "outputs": [
    {
     "name": "stdout",
     "output_type": "stream",
     "text": [
      "      Name  Age    Country  Salary\n",
      "0     John   25        USA   50000\n",
      "1    Alice   30     Canada   60000\n",
      "2      Bob   35         UK   70000\n",
      "3    Emily   28        USA   55000\n",
      "4  Michael   32  Australia   65000\n"
     ]
    }
   ],
   "source": [
    "# Create data using pd.Series\n",
    "names = pd.Series(['John', 'Alice', 'Bob', 'Emily', 'Michael'])\n",
    "ages = pd.Series([25, 30, 35, 28, 32])\n",
    "countries = pd.Series(['USA', 'Canada', 'UK', 'USA', 'Australia'])\n",
    "salaries = pd.Series([50000, 60000, 70000, 55000, 65000])\n",
    "\n",
    "# Create a dictionary of series\n",
    "data = {\n",
    "    'Name': names,\n",
    "    'Age': ages,\n",
    "    'Country': countries,\n",
    "    'Salary': salaries\n",
    "}\n",
    "\n",
    "# Create a pandas DataFrame from the dictionary\n",
    "df = pd.DataFrame(data)\n",
    "\n",
    "# Print the dataset\n",
    "print(df)\n"
   ]
  },
  {
   "cell_type": "code",
   "execution_count": 7,
   "metadata": {},
   "outputs": [
    {
     "name": "stdout",
     "output_type": "stream",
     "text": [
      "Names:\n",
      "0       John\n",
      "1      Alice\n",
      "2        Bob\n",
      "3      Emily\n",
      "4    Michael\n",
      "Name: Name, dtype: object\n",
      "\n",
      "Ages:\n",
      "0    25\n",
      "1    30\n",
      "2    35\n",
      "3    28\n",
      "4    32\n",
      "Name: Age, dtype: int64\n",
      "\n",
      "Countries:\n",
      "0          USA\n",
      "1       Canada\n",
      "2           UK\n",
      "3          USA\n",
      "4    Australia\n",
      "Name: Country, dtype: object\n",
      "\n",
      "Salaries:\n",
      "0    50000\n",
      "1    60000\n",
      "2    70000\n",
      "3    55000\n",
      "4    65000\n",
      "Name: Salary, dtype: int64\n"
     ]
    }
   ],
   "source": [
    "import pandas as pd\n",
    "\n",
    "# Create a pandas DataFrame\n",
    "data = {\n",
    "    'Name': ['John', 'Alice', 'Bob', 'Emily', 'Michael'],\n",
    "    'Age': [25, 30, 35, 28, 32],\n",
    "    'Country': ['USA', 'Canada', 'UK', 'USA', 'Australia'],\n",
    "    'Salary': [50000, 60000, 70000, 55000, 65000]\n",
    "}\n",
    "df = pd.DataFrame(data)\n",
    "\n",
    "# Convert DataFrame columns into Series using pd.Series()\n",
    "names = pd.Series(df['Name'])\n",
    "ages = pd.Series(df['Age'])\n",
    "countries = pd.Series(df['Country'])\n",
    "salaries = pd.Series(df['Salary'])\n",
    "\n",
    "# Print the individual Series\n",
    "print(\"Names:\")\n",
    "print(names)\n",
    "print()\n",
    "\n",
    "print(\"Ages:\")\n",
    "print(ages)\n",
    "print()\n",
    "\n",
    "print(\"Countries:\")\n",
    "print(countries)\n",
    "print()\n",
    "\n",
    "print(\"Salaries:\")\n",
    "print(salaries)\n"
   ]
  },
  {
   "cell_type": "code",
   "execution_count": 8,
   "metadata": {},
   "outputs": [
    {
     "name": "stdout",
     "output_type": "stream",
     "text": [
      "Monday       2023-07-03\n",
      "Tuesday      2023-07-04\n",
      "Wednesday    2023-07-05\n",
      "Thursday     2023-07-06\n",
      "Friday       2023-07-07\n",
      "dtype: object\n"
     ]
    }
   ],
   "source": [
    "import pandas as pd\n",
    "\n",
    "# Create a dictionary of days and dates\n",
    "data = {\n",
    "    'Monday': '2023-07-03',\n",
    "    'Tuesday': '2023-07-04',\n",
    "    'Wednesday': '2023-07-05',\n",
    "    'Thursday': '2023-07-06',\n",
    "    'Friday': '2023-07-07'\n",
    "}\n",
    "\n",
    "# Create a Pandas Series from the dictionary\n",
    "series = pd.Series(data)\n",
    "\n",
    "# Print the Pandas Series\n",
    "print(series)\n",
    "\n",
    "\n"
   ]
  },
  {
   "cell_type": "code",
   "execution_count": 10,
   "metadata": {},
   "outputs": [
    {
     "name": "stdout",
     "output_type": "stream",
     "text": [
      "Selected Days (Indexing):\n",
      "Monday     2023-07-03\n",
      "Tuesday    2023-07-04\n",
      "dtype: object\n"
     ]
    }
   ],
   "source": [
    "#selecting indexed days\n",
    "selected_days = series[['Monday','Tuesday']]\n",
    "print(\"Selected Days (Indexing):\")\n",
    "print(selected_days)"
   ]
  },
  {
   "cell_type": "code",
   "execution_count": 1,
   "metadata": {},
   "outputs": [],
   "source": [
    "import seaborn as sns\n"
   ]
  },
  {
   "cell_type": "code",
   "execution_count": null,
   "metadata": {},
   "outputs": [],
   "source": [
    "import matplotlib.pyplot as pl"
   ]
  }
 ],
 "metadata": {
  "kernelspec": {
   "display_name": "Python 3",
   "language": "python",
   "name": "python3"
  },
  "language_info": {
   "codemirror_mode": {
    "name": "ipython",
    "version": 3
   },
   "file_extension": ".py",
   "mimetype": "text/x-python",
   "name": "python",
   "nbconvert_exporter": "python",
   "pygments_lexer": "ipython3",
   "version": "3.11.4"
  },
  "orig_nbformat": 4
 },
 "nbformat": 4,
 "nbformat_minor": 2
}
